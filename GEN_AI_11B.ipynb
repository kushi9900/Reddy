{
  "nbformat": 4,
  "nbformat_minor": 0,
  "metadata": {
    "colab": {
      "provenance": [],
      "authorship_tag": "ABX9TyP8sQ4Gl6MCo3AMUMitZtII",
      "include_colab_link": true
    },
    "kernelspec": {
      "name": "python3",
      "display_name": "Python 3"
    },
    "language_info": {
      "name": "python"
    }
  },
  "cells": [
    {
      "cell_type": "markdown",
      "metadata": {
        "id": "view-in-github",
        "colab_type": "text"
      },
      "source": [
        "<a href=\"https://colab.research.google.com/github/kushi9900/Reddy/blob/main/GEN_AI_11B.ipynb\" target=\"_parent\"><img src=\"https://colab.research.google.com/assets/colab-badge.svg\" alt=\"Open In Colab\"/></a>"
      ]
    },
    {
      "cell_type": "code",
      "source": [
        "!pip install faiss-cpu"
      ],
      "metadata": {
        "colab": {
          "base_uri": "https://localhost:8080/"
        },
        "id": "v7dLGUG9V9vr",
        "outputId": "726a2655-6bde-4be1-c46d-894bc2babead"
      },
      "execution_count": 2,
      "outputs": [
        {
          "output_type": "stream",
          "name": "stdout",
          "text": [
            "Collecting faiss-cpu\n",
            "  Downloading faiss_cpu-1.12.0-cp312-cp312-manylinux_2_27_x86_64.manylinux_2_28_x86_64.whl.metadata (5.1 kB)\n",
            "Requirement already satisfied: numpy<3.0,>=1.25.0 in /usr/local/lib/python3.12/dist-packages (from faiss-cpu) (2.0.2)\n",
            "Requirement already satisfied: packaging in /usr/local/lib/python3.12/dist-packages (from faiss-cpu) (25.0)\n",
            "Downloading faiss_cpu-1.12.0-cp312-cp312-manylinux_2_27_x86_64.manylinux_2_28_x86_64.whl (31.4 MB)\n",
            "\u001b[2K   \u001b[90m━━━━━━━━━━━━━━━━━━━━━━━━━━━━━━━━━━━━━━━━\u001b[0m \u001b[32m31.4/31.4 MB\u001b[0m \u001b[31m51.2 MB/s\u001b[0m eta \u001b[36m0:00:00\u001b[0m\n",
            "\u001b[?25hInstalling collected packages: faiss-cpu\n",
            "Successfully installed faiss-cpu-1.12.0\n"
          ]
        }
      ]
    },
    {
      "cell_type": "code",
      "source": [
        "import warnings\n",
        "warnings.filterwarnings('ignore')\n"
      ],
      "metadata": {
        "id": "XhHHfPFnWcRy"
      },
      "execution_count": 4,
      "outputs": []
    },
    {
      "cell_type": "code",
      "execution_count": 6,
      "metadata": {
        "colab": {
          "base_uri": "https://localhost:8080/"
        },
        "id": "sFToPhUGUHa1",
        "outputId": "5b8d25d5-991f-4cda-9988-a50d12b0152a"
      },
      "outputs": [
        {
          "output_type": "stream",
          "name": "stdout",
          "text": [
            "Question: Where is the Taj Mahal located?\n",
            "Retrieved documents:\n",
            "The Taj Mahal is located in Agra\n",
            "The Great Wall of China can be found in China\n",
            "The Eiffel Tower is in Paris\n"
          ]
        }
      ],
      "source": [
        "from sentence_transformers import SentenceTransformer\n",
        "import faiss\n",
        "import numpy as np\n",
        "\n",
        "# Step 1: Define documents as a list\n",
        "docs = [\n",
        "    \"The Taj Mahal is located in Agra\",\n",
        "    \"The Eiffel Tower is in Paris\",\n",
        "    \"The Great Wall of China can be found in China\"\n",
        "]\n",
        "\n",
        "# Step 2: Load model and encode documents\n",
        "model = SentenceTransformer('all-MiniLM-L6-v2')\n",
        "doc_embeddings = model.encode(docs)\n",
        "\n",
        "# Step 3: Create FAISS index and add document embeddings\n",
        "dimension = doc_embeddings.shape[1]\n",
        "index = faiss.IndexFlatL2(dimension)\n",
        "index.add(np.array(doc_embeddings).astype('float32'))  # Ensure float32\n",
        "\n",
        "# Step 4: Define retrieve function\n",
        "def retrieve(query, top_k=3):\n",
        "    query_embedding = model.encode([query])\n",
        "    distances, indices = index.search(np.array(query_embedding).astype('float32'), top_k)\n",
        "    return [docs[i] for i in indices[0]]\n",
        "\n",
        "# Step 5: Query the index\n",
        "query = \"Where is the Taj Mahal located?\"\n",
        "results = retrieve(query)\n",
        "\n",
        "print(\"Question:\", query)\n",
        "print(\"Retrieved documents:\")\n",
        "for result in results:\n",
        "    print(result)\n"
      ]
    }
  ]
}