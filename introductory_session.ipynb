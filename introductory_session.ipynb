{
  "nbformat": 4,
  "nbformat_minor": 0,
  "metadata": {
    "colab": {
      "provenance": [],
      "authorship_tag": "ABX9TyMUPbXwi9eHc0xfO6Dj9u4t",
      "include_colab_link": true
    },
    "kernelspec": {
      "name": "python3",
      "display_name": "Python 3"
    },
    "language_info": {
      "name": "python"
    }
  },
  "cells": [
    {
      "cell_type": "markdown",
      "metadata": {
        "id": "view-in-github",
        "colab_type": "text"
      },
      "source": [
        "<a href=\"https://colab.research.google.com/github/kushi9900/Reddy/blob/main/introductory_session.ipynb\" target=\"_parent\"><img src=\"https://colab.research.google.com/assets/colab-badge.svg\" alt=\"Open In Colab\"/></a>"
      ]
    },
    {
      "cell_type": "code",
      "execution_count": 1,
      "metadata": {
        "colab": {
          "base_uri": "https://localhost:8080/"
        },
        "id": "5q8jAO_krpaN",
        "outputId": "f1a655c2-428e-4c8b-f12c-0766a30f76dd"
      },
      "outputs": [
        {
          "output_type": "stream",
          "name": "stdout",
          "text": [
            "square root of 25 is: 5.0\n"
          ]
        }
      ],
      "source": [
        "import math\n",
        "\n",
        "num= 25\n",
        "square_root = math.sqrt(num)\n",
        "print(f\"square root of {num} is: {square_root}\")"
      ]
    },
    {
      "cell_type": "code",
      "source": [
        "import math\n",
        "a=2\n",
        "b=3\n",
        "\n",
        "a,b=b,a\n",
        "\n",
        "print(f\"swap: a = {a}, b = {b}\")\n"
      ],
      "metadata": {
        "id": "jKyiqPTGtcOx",
        "colab": {
          "base_uri": "https://localhost:8080/"
        },
        "outputId": "6f775577-9cb8-4d2e-e251-d4513c825171"
      },
      "execution_count": 2,
      "outputs": [
        {
          "output_type": "stream",
          "name": "stdout",
          "text": [
            "swap: a = 3, b = 2\n"
          ]
        }
      ]
    },
    {
      "cell_type": "code",
      "source": [
        "num = int(input(\"enter num: \"))\n",
        "if num > 0:\n",
        "    print(\"positive\")\n",
        "elif num < 0:\n",
        "    print(\"negative\")\n",
        "else:\n",
        "    print(\"zero\")\n"
      ],
      "metadata": {
        "colab": {
          "base_uri": "https://localhost:8080/"
        },
        "id": "cnVAlEtf0S9q",
        "outputId": "2b34aaf5-6484-402a-f7ee-00dbc49a0b3f"
      },
      "execution_count": 3,
      "outputs": [
        {
          "output_type": "stream",
          "name": "stdout",
          "text": [
            "enter num: 4\n",
            "positive\n"
          ]
        }
      ]
    },
    {
      "cell_type": "code",
      "source": [
        "n=int(input(\"enter num:\"))\n",
        "if n%2==0:\n",
        "    print(f\"{n} is odd.\")\n",
        "else:\n",
        "    print(f\"{n} is even.\")"
      ],
      "metadata": {
        "id": "pehouSCKwsiU",
        "colab": {
          "base_uri": "https://localhost:8080/"
        },
        "outputId": "ec52eb09-1870-438a-d934-33c452785ccf"
      },
      "execution_count": 5,
      "outputs": [
        {
          "output_type": "stream",
          "name": "stdout",
          "text": [
            "enter num:4\n",
            "4 is odd.\n"
          ]
        }
      ]
    },
    {
      "cell_type": "code",
      "source": [
        "import math\n",
        "\n",
        "num = 5\n",
        "factorial = math.factorial(num)\n",
        "print(f\"The factorial of {num} is {factorial}\")\n"
      ],
      "metadata": {
        "colab": {
          "base_uri": "https://localhost:8080/"
        },
        "id": "XX91Kelew_vc",
        "outputId": "c487d4c4-2279-4ad6-808e-acfd03b1afdf"
      },
      "execution_count": 6,
      "outputs": [
        {
          "output_type": "stream",
          "name": "stdout",
          "text": [
            "The factorial of 5 is 120\n"
          ]
        }
      ]
    },
    {
      "cell_type": "code",
      "source": [
        "word = input(\"Enter a word: \")\n",
        "if word == word[::-1]:\n",
        "    print(\"It's a palindrome!\")\n",
        "else:\n",
        "    print(\"Not a palindrome.\")\n"
      ],
      "metadata": {
        "colab": {
          "base_uri": "https://localhost:8080/"
        },
        "id": "YcpKW4r3zA8d",
        "outputId": "4ab80567-0a1b-43eb-93cb-4acd678c81ab"
      },
      "execution_count": 7,
      "outputs": [
        {
          "output_type": "stream",
          "name": "stdout",
          "text": [
            "Enter a word: 4\n",
            "It's a palindrome!\n"
          ]
        }
      ]
    },
    {
      "cell_type": "code",
      "source": [
        "import numpy as np\n",
        "import pandas as pd\n",
        "\n",
        "data = {\n",
        "    \"name\": [\"ram\", \"ravi\", \"gyan\"],\n",
        "    \"Age\": [20, 30, 40],\n",
        "    \"city\": [\"bangalore\", \"delhi\", \"mumbai\"]\n",
        "}\n",
        "\n",
        "df = pd.DataFrame(data)\n",
        "#print(df)\n",
        "older_than_30 = df[df[\"Age\"] > 30]\n",
        "\n",
        "print(older_than_30)\n"
      ],
      "metadata": {
        "colab": {
          "base_uri": "https://localhost:8080/"
        },
        "id": "tRnnCAmh0uBT",
        "outputId": "b9409858-8534-42e5-b8e7-7ea8d0eeb7b9"
      },
      "execution_count": 12,
      "outputs": [
        {
          "output_type": "stream",
          "name": "stdout",
          "text": [
            "   name  Age    city\n",
            "2  gyan   40  mumbai\n"
          ]
        }
      ]
    },
    {
      "cell_type": "code",
      "source": [],
      "metadata": {
        "id": "fhbsU2sF3Rv6"
      },
      "execution_count": null,
      "outputs": []
    }
  ]
}