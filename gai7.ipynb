{
  "nbformat": 4,
  "nbformat_minor": 0,
  "metadata": {
    "colab": {
      "provenance": [],
      "gpuType": "V28",
      "include_colab_link": true
    },
    "kernelspec": {
      "name": "python3",
      "display_name": "Python 3"
    },
    "language_info": {
      "name": "python"
    },
    "accelerator": "TPU"
  },
  "cells": [
    {
      "cell_type": "markdown",
      "metadata": {
        "id": "view-in-github",
        "colab_type": "text"
      },
      "source": [
        "<a href=\"https://colab.research.google.com/github/kushi9900/Reddy/blob/main/gai7.ipynb\" target=\"_parent\"><img src=\"https://colab.research.google.com/assets/colab-badge.svg\" alt=\"Open In Colab\"/></a>"
      ]
    },
    {
      "cell_type": "code",
      "execution_count": null,
      "metadata": {
        "id": "pOR70L0H8DuV"
      },
      "outputs": [],
      "source": [
        "import torch\n",
        "import torch.nn as nn\n",
        "import torch.optim as optim\n",
        "from torchvision import datasets, transforms\n",
        "from torch.utils.data import DataLoader\n",
        "import matplotlib.pyplot as plt"
      ]
    },
    {
      "cell_type": "code",
      "source": [
        "batch_size = 128\n",
        "lr = 0.0002\n",
        "z_dim = 100   # latent vector size\n",
        "epochs = 8\n",
        "num_classes = 10\n",
        "img_size = 28 * 28"
      ],
      "metadata": {
        "id": "tgObg7sH9Sgv"
      },
      "execution_count": null,
      "outputs": []
    },
    {
      "cell_type": "code",
      "source": [
        "transform = transforms.Compose([\n",
        "    transforms.ToTensor(),\n",
        "    transforms.Normalize([0.5], [0.5])  # scale to [-1,1]\n",
        "])\n",
        "\n",
        "train_dataset = datasets.MNIST(root=\"./data\", train=True, transform=transform, download=True)\n",
        "train_loader = DataLoader(train_dataset, batch_size=batch_size, shuffle=True)\n"
      ],
      "metadata": {
        "colab": {
          "base_uri": "https://localhost:8080/"
        },
        "id": "aueqrd9c9hZf",
        "outputId": "5f1d2416-8c58-44d6-ca53-563e7aff075f"
      },
      "execution_count": null,
      "outputs": [
        {
          "output_type": "stream",
          "name": "stderr",
          "text": [
            "100%|██████████| 9.91M/9.91M [00:00<00:00, 37.0MB/s]\n",
            "100%|██████████| 28.9k/28.9k [00:00<00:00, 1.05MB/s]\n",
            "100%|██████████| 1.65M/1.65M [00:00<00:00, 9.23MB/s]\n",
            "100%|██████████| 4.54k/4.54k [00:00<00:00, 11.1MB/s]\n"
          ]
        }
      ]
    },
    {
      "cell_type": "code",
      "source": [
        "class Generator(nn.Module):\n",
        "    def __init__(self, z_dim, num_classes, img_size):\n",
        "        super(Generator, self).__init__()\n",
        "        self.label_emb = nn.Embedding(num_classes, num_classes)\n",
        "        self.model = nn.Sequential(\n",
        "            nn.Linear(z_dim + num_classes, 256),\n",
        "            nn.LeakyReLU(0.2, inplace=True),\n",
        "            nn.Linear(256, 512),\n",
        "            nn.LeakyReLU(0.2, inplace=True),\n",
        "            nn.Linear(512, 1024),\n",
        "            nn.LeakyReLU(0.2, inplace=True),\n",
        "            nn.Linear(1024, img_size),\n",
        "            nn.Tanh()\n",
        "        )\n",
        "\n",
        "    def forward(self, noise, labels):\n",
        "        # concatenate noise and label embedding\n",
        "        c = self.label_emb(labels)\n",
        "        x = torch.cat([noise, c], dim=1)\n",
        "        return self.model(x)\n"
      ],
      "metadata": {
        "id": "ubyUmwPp9nPv"
      },
      "execution_count": null,
      "outputs": []
    },
    {
      "cell_type": "code",
      "source": [
        "class Discriminator(nn.Module):\n",
        "    def __init__(self, num_classes, img_size):\n",
        "        super(Discriminator, self).__init__()\n",
        "        self.label_emb = nn.Embedding(num_classes, num_classes)\n",
        "        self.model = nn.Sequential(\n",
        "            nn.Linear(img_size + num_classes, 512),\n",
        "            nn.LeakyReLU(0.2, inplace=True),\n",
        "            nn.Linear(512, 256),\n",
        "            nn.LeakyReLU(0.2, inplace=True),\n",
        "            nn.Linear(256, 1),\n",
        "            nn.Sigmoid()\n",
        "        )\n",
        "\n",
        "    def forward(self, img, labels):\n",
        "        c = self.label_emb(labels)\n",
        "        x = torch.cat([img, c], dim=1)\n",
        "        return self.model(x)"
      ],
      "metadata": {
        "id": "ErWkVmMy9xrP"
      },
      "execution_count": null,
      "outputs": []
    },
    {
      "cell_type": "code",
      "source": [
        "device = torch.device(\"cuda\" if torch.cuda.is_available() else \"cpu\")\n",
        "\n",
        "G = Generator(z_dim, num_classes, img_size).to(device)\n",
        "D = Discriminator(num_classes, img_size).to(device)\n",
        "\n",
        "criterion = nn.BCELoss()\n",
        "optimizer_G = optim.Adam(G.parameters(), lr=lr, betas=(0.5, 0.999))\n",
        "optimizer_D = optim.Adam(D.parameters(), lr=lr, betas=(0.5, 0.999))\n"
      ],
      "metadata": {
        "id": "5XFxi3IN-hp_"
      },
      "execution_count": null,
      "outputs": []
    },
    {
      "cell_type": "code",
      "source": [
        "for epoch in range(epochs):\n",
        "    for i, (imgs, labels) in enumerate(train_loader):\n",
        "        batch_size_curr = imgs.size(0)\n",
        "        imgs = imgs.view(batch_size_curr, -1).to(device)\n",
        "        labels = labels.to(device)\n",
        "\n",
        "        # real and fake labels\n",
        "        real = torch.ones(batch_size_curr, 1).to(device)\n",
        "        fake = torch.zeros(batch_size_curr, 1).to(device)\n",
        "\n",
        "        # ---------------------\n",
        "        # Train Discriminator\n",
        "        # ---------------------\n",
        "        z = torch.randn(batch_size_curr, z_dim).to(device)\n",
        "        gen_labels = torch.randint(0, num_classes, (batch_size_curr,)).to(device)\n",
        "        gen_imgs = G(z, gen_labels)\n",
        "\n",
        "        real_loss = criterion(D(imgs, labels), real)\n",
        "        fake_loss = criterion(D(gen_imgs.detach(), gen_labels), fake)\n",
        "        d_loss = real_loss + fake_loss\n",
        "\n",
        "        optimizer_D.zero_grad()\n",
        "        d_loss.backward()\n",
        "        optimizer_D.step()\n",
        "\n",
        "        # ---------------------\n",
        "        # Train Generator\n",
        "        # ---------------------\n",
        "        z = torch.randn(batch_size_curr, z_dim).to(device)\n",
        "        gen_labels = torch.randint(0, num_classes, (batch_size_curr,)).to(device)\n",
        "        gen_imgs = G(z, gen_labels)\n",
        "\n",
        "        g_loss = criterion(D(gen_imgs, gen_labels), real)\n",
        "\n",
        "        optimizer_G.zero_grad()\n",
        "        g_loss.backward()\n",
        "        optimizer_G.step()\n",
        "\n",
        "    print(f\"Epoch [{epoch+1}/{epochs}] | D_loss: {d_loss.item():.4f} | G_loss: {g_loss.item():.4f}\")\n",
        "    if (epoch+1) % 5 == 0:\n",
        "        z = torch.randn(10, z_dim).to(device)\n",
        "        labels_test = torch.arange(0, 10).to(device)\n",
        "        gen_imgs = G(z, labels_test).view(-1, 1, 28, 28).cpu().detach()\n",
        "\n",
        "        grid = torch.cat([gen_imgs[i] for i in range(10)], dim=2).squeeze()\n",
        "        plt.imshow(grid, cmap=\"gray\")\n",
        "        plt.title(\"Generated Digits 0-9\")\n",
        "        plt.show()"
      ],
      "metadata": {
        "colab": {
          "base_uri": "https://localhost:8080/",
          "height": 219
        },
        "id": "wNB-hvgD-nLn",
        "outputId": "0bd306c0-642f-4131-fe4a-41aa97d71ee2"
      },
      "execution_count": null,
      "outputs": [
        {
          "output_type": "stream",
          "name": "stdout",
          "text": [
            "Epoch [1/8] | D_loss: 0.3384 | G_loss: 2.6155\n",
            "Epoch [2/8] | D_loss: 0.7858 | G_loss: 2.0969\n",
            "Epoch [3/8] | D_loss: 0.8511 | G_loss: 3.3095\n",
            "Epoch [4/8] | D_loss: 0.7280 | G_loss: 2.1751\n",
            "Epoch [5/8] | D_loss: 0.7905 | G_loss: 2.7943\n"
          ]
        },
        {
          "output_type": "display_data",
          "data": {
            "text/plain": [
              "<Figure size 640x480 with 1 Axes>"
            ],
            "image/png": "[encoded data removed]"
          },
          "metadata": {}
        }
      ]
    },
    {
      "cell_type": "code",
      "source": [],
      "metadata": {
        "id": "S2s9EJa1-sVH"
      },
      "execution_count": null,
      "outputs": []
    },
    {
      "cell_type": "code",
      "source": [],
      "metadata": {
        "id": "7WKcHUCq-xFP"
      },
      "execution_count": null,
      "outputs": []
    }
  ]
}